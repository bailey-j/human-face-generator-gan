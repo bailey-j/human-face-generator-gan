{
 "cells": [
  {
   "cell_type": "markdown",
   "metadata": {},
   "source": [
    "# Face Generation\n",
    "\n",
    "In this project, you'll define and train a DCGAN on a dataset of faces. Your goal is to get a generator network to generate *new* images of faces that look as realistic as possible!\n",
    "\n",
    "The project will be broken down into a series of tasks from **loading in data to defining and training adversarial networks**. At the end of the notebook, you'll be able to visualize the results of your trained Generator to see how it performs; your generated samples should look like fairly realistic faces with small amounts of noise.\n",
    "\n",
    "### Get the Data\n",
    "\n",
    "You'll be using the [CelebFaces Attributes Dataset (CelebA)](http://mmlab.ie.cuhk.edu.hk/projects/CelebA.html) to train your adversarial networks.\n",
    "\n",
    "This dataset is more complex than the number datasets (like MNIST or SVHN) you've been working with, and so, you should prepare to define deeper networks and train them for a longer time to get good results. It is suggested that you utilize a GPU for training.\n",
    "\n",
    "### Pre-processed Data\n",
    "\n",
    "Since the project's main focus is on building the GANs, we've done *some* of the pre-processing for you. Each of the CelebA images has been cropped to remove parts of the image that don't include a face, then resized down to 64x64x3 NumPy images. Some sample data is show below.\n",
    "\n",
    "<img src='assets/processed_face_data.png' width=60% />\n",
    "\n",
    "> If you are working locally, you can download this data [by clicking here](https://s3.amazonaws.com/video.udacity-data.com/topher/2018/November/5be7eb6f_processed-celeba-small/processed-celeba-small.zip)\n",
    "\n",
    "This is a zip file that you'll need to extract in the home directory of this notebook for further loading and processing. After extracting the data, you should be left with a directory of data `processed_celeba_small/`"
   ]
  },
  {
   "cell_type": "code",
   "execution_count": 1,
   "metadata": {},
   "outputs": [],
   "source": [
    "# can comment out after executing\n",
    "#!unzip processed_celeba_small.zip"
   ]
  },
  {
   "cell_type": "code",
   "execution_count": 2,
   "metadata": {},
   "outputs": [],
   "source": [
    "data_dir = 'processed_celeba_small/'\n",
    "\n",
    "\"\"\"\n",
    "DON'T MODIFY ANYTHING IN THIS CELL\n",
    "\"\"\"\n",
    "import pickle as pkl\n",
    "import matplotlib.pyplot as plt\n",
    "import numpy as np\n",
    "import problem_unittests as tests\n",
    "#import helper\n",
    "\n",
    "%matplotlib inline"
   ]
  },
  {
   "cell_type": "markdown",
   "metadata": {},
   "source": [
    "## Visualize the CelebA Data\n",
    "\n",
    "The [CelebA](http://mmlab.ie.cuhk.edu.hk/projects/CelebA.html) dataset contains over 200,000 celebrity images with annotations. Since you're going to be generating faces, you won't need the annotations, you'll only need the images. Note that these are color images with [3 color channels (RGB)](https://en.wikipedia.org/wiki/Channel_(digital_image)#RGB_Images) each.\n",
    "\n",
    "### Pre-process and Load the Data\n",
    "\n",
    "Since the project's main focus is on building the GANs, we've done *some* of the pre-processing for you. Each of the CelebA images has been cropped to remove parts of the image that don't include a face, then resized down to 64x64x3 NumPy images. This *pre-processed* dataset is a smaller subset of the very large CelebA data.\n",
    "\n",
    "> There are a few other steps that you'll need to **transform** this data and create a **DataLoader**.\n",
    "\n",
    "#### Exercise: Complete the following `get_dataloader` function, such that it satisfies these requirements:\n",
    "\n",
    "* Your images should be square, Tensor images of size `image_size x image_size` in the x and y dimension.\n",
    "* Your function should return a DataLoader that shuffles and batches these Tensor images.\n",
    "\n",
    "#### ImageFolder\n",
    "\n",
    "To create a dataset given a directory of images, it's recommended that you use PyTorch's [ImageFolder](https://pytorch.org/docs/stable/torchvision/datasets.html#imagefolder) wrapper, with a root directory `processed_celeba_small/` and data transformation passed in."
   ]
  },
  {
   "cell_type": "code",
   "execution_count": 3,
   "metadata": {},
   "outputs": [],
   "source": [
    "# necessary imports\n",
    "import torch\n",
    "from torchvision import datasets\n",
    "from torchvision import transforms"
   ]
  },
  {
   "cell_type": "code",
   "execution_count": 4,
   "metadata": {},
   "outputs": [],
   "source": [
    "def get_dataloader(batch_size, image_size, data_dir='processed_celeba_small/'):\n",
    "    \"\"\"\n",
    "    Batch the neural network data using DataLoader\n",
    "    :param batch_size: The size of each batch; the number of images in a batch\n",
    "    :param img_size: The square size of the image data (x, y)\n",
    "    :param data_dir: Directory where image data is located\n",
    "    :return: DataLoader with batched data\n",
    "    \"\"\"\n",
    "    \n",
    "    # TODO: Implement function and return a dataloader  \n",
    "    data_transform = transforms.Compose([transforms.Resize(image_size + 4),\n",
    "                                    transforms.CenterCrop(image_size),\n",
    "                                    transforms.ToTensor(),\n",
    "                                    #transforms.Normalize(mean = [ 0.485, 0.456, 0.406 ],std = [ 0.229, 0.224, 0.225 ])\n",
    "                                        ])\n",
    "\n",
    "\n",
    "    data_set = datasets.ImageFolder(data_dir, data_transform)\n",
    "    dataloader = torch.utils.data.DataLoader(data_set, batch_size=batch_size, shuffle=True)\n",
    "\n",
    "    return dataloader"
   ]
  },
  {
   "cell_type": "markdown",
   "metadata": {},
   "source": [
    "## Create a DataLoader\n",
    "\n",
    "#### Exercise: Create a DataLoader `celeba_train_loader` with appropriate hyperparameters.\n",
    "\n",
    "Call the above function and create a dataloader to view images. \n",
    "* You can decide on any reasonable `batch_size` parameter\n",
    "* Your `image_size` **must be** `32`. Resizing the data to a smaller size will make for faster training, while still creating convincing images of faces!"
   ]
  },
  {
   "cell_type": "code",
   "execution_count": 5,
   "metadata": {},
   "outputs": [
    {
     "name": "stdout",
     "output_type": "stream",
     "text": [
      "There are 32601 total Celeb images.\n"
     ]
    }
   ],
   "source": [
    "import numpy as np\n",
    "from glob import glob\n",
    "\n",
    "# load filenames for human and dog images\n",
    "celeba_files = np.array(glob(\"processed_celeba_small/celeba/*\"))\n",
    "celeba_len = len(celeba_files)\n",
    "\n",
    "# print number of images in each dataset\n",
    "print('There are %d total Celeb images.' % celeba_len)"
   ]
  },
  {
   "cell_type": "code",
   "execution_count": 6,
   "metadata": {},
   "outputs": [],
   "source": [
    "# Define function hyperparameters\n",
    "batch_size = 72\n",
    "img_size = 32\n",
    "\n",
    "\"\"\"\n",
    "DON'T MODIFY ANYTHING IN THIS CELL THAT IS BELOW THIS LINE\n",
    "\"\"\"\n",
    "# Call your function and get a dataloader\n",
    "celeba_train_loader = get_dataloader(batch_size, img_size)\n"
   ]
  },
  {
   "cell_type": "markdown",
   "metadata": {},
   "source": [
    "Next, you can view some images! You should seen square images of somewhat-centered faces.\n",
    "\n",
    "Note: You'll need to convert the Tensor images into a NumPy type and transpose the dimensions to correctly display an image, suggested `imshow` code is below, but it may not be perfect."
   ]
  },
  {
   "cell_type": "code",
   "execution_count": 7,
   "metadata": {},
   "outputs": [
    {
     "data": {
      "image/png": "[encoded data removed]",
      "text/plain": [
       "<matplotlib.figure.Figure at 0x7f11a87b8da0>"
      ]
     },
     "metadata": {},
     "output_type": "display_data"
    }
   ],
   "source": [
    "# helper display function\n",
    "def imshow(img):\n",
    "    npimg = img.numpy()\n",
    "    plt.imshow(np.transpose(npimg, (1, 2, 0)))\n",
    "\n",
    "\"\"\"\n",
    "DON'T MODIFY ANYTHING IN THIS CELL THAT IS BELOW THIS LINE\n",
    "\"\"\"\n",
    "# obtain one batch of training images\n",
    "dataiter = iter(celeba_train_loader)\n",
    "images, _ = dataiter.next() # _ for no labels\n",
    "\n",
    "# plot the images in the batch, along with the corresponding labels\n",
    "fig = plt.figure(figsize=(20, 4))\n",
    "plot_size=20\n",
    "for idx in np.arange(plot_size):\n",
    "    ax = fig.add_subplot(2, plot_size/2, idx+1, xticks=[], yticks=[])\n",
    "    imshow(images[idx])"
   ]
  },
  {
   "cell_type": "markdown",
   "metadata": {},
   "source": [
    "#### Exercise: Pre-process your image data and scale it to a pixel range of -1 to 1\n",
    "\n",
    "You need to do a bit of pre-processing; you know that the output of a `tanh` activated generator will contain pixel values in a range from -1 to 1, and so, we need to rescale our training images to a range of -1 to 1. (Right now, they are in a range from 0-1.)"
   ]
  },
  {
   "cell_type": "code",
   "execution_count": 8,
   "metadata": {},
   "outputs": [],
   "source": [
    "# TODO: Complete the scale function\n",
    "\n",
    "def scale(x, feature_range=(-1, 1)):\n",
    "    ''' Scale takes in an image x and returns that image, scaled\n",
    "       with a feature_range of pixel values from -1 to 1. \n",
    "       This function assumes that the input x is already scaled from 0-1.'''\n",
    "    # assume x is scaled to (0, 1)\n",
    "    # scale to feature_range and return scaled x\n",
    "    min_x = feature_range[0] \n",
    "    max_x = feature_range[1]\n",
    "    x = (x * (max_x - min_x)) + min_x\n",
    "    \n",
    "    return x"
   ]
  },
  {
   "cell_type": "code",
   "execution_count": 9,
   "metadata": {},
   "outputs": [
    {
     "name": "stdout",
     "output_type": "stream",
     "text": [
      "Min:  tensor(-0.9451)\n",
      "Max:  tensor(0.8510)\n"
     ]
    }
   ],
   "source": [
    "\"\"\"\n",
    "DON'T MODIFY ANYTHING IN THIS CELL THAT IS BELOW THIS LINE\n",
    "\"\"\"\n",
    "# check scaled range\n",
    "# should be close to -1 to 1\n",
    "img = images[0]\n",
    "scaled_img = scale(img)\n",
    "\n",
    "print('Min: ', scaled_img.min())\n",
    "print('Max: ', scaled_img.max())"
   ]
  },
  {
   "cell_type": "markdown",
   "metadata": {},
   "source": [
    "---\n",
    "# Define the Model\n",
    "\n",
    "A GAN is comprised of two adversarial networks, a discriminator and a generator.\n",
    "\n",
    "## Discriminator\n",
    "\n",
    "Your first task will be to define the discriminator. This is a convolutional classifier like you've built before, only without any maxpooling layers. To deal with this complex data, it's suggested you use a deep network with **normalization**. You are also allowed to create any helper functions that may be useful.\n",
    "\n",
    "#### Exercise: Complete the Discriminator class\n",
    "* The inputs to the discriminator are 32x32x3 tensor images\n",
    "* The output should be a single value that will indicate whether a given image is real or fake\n"
   ]
  },
  {
   "cell_type": "code",
   "execution_count": 10,
   "metadata": {},
   "outputs": [],
   "source": [
    "import torch.nn as nn\n",
    "import torch.nn.functional as F"
   ]
  },
  {
   "cell_type": "code",
   "execution_count": 11,
   "metadata": {},
   "outputs": [
    {
     "name": "stdout",
     "output_type": "stream",
     "text": [
      "Tests Passed\n"
     ]
    }
   ],
   "source": [
    "class Discriminator(nn.Module):\n",
    "\n",
    "    def __init__(self, conv_dim):\n",
    "        \"\"\"\n",
    "        Initialize the Discriminator Module\n",
    "        :param conv_dim: The depth of the first convolutional layer\n",
    "        \"\"\"\n",
    "        super(Discriminator, self).__init__()\n",
    "\n",
    "        # complete init function\n",
    "        self.conv_dim = conv_dim\n",
    "        self.cl1 = nn.Conv2d(3, conv_dim, kernel_size = 4, stride = 2, padding = 1, bias=False)\n",
    "        self.batch_norm1 = nn.BatchNorm2d(conv_dim)\n",
    "        self.cl2 = nn.Conv2d(conv_dim, conv_dim*2, kernel_size = 4, stride = 2, padding = 1, bias=False)\n",
    "        self.batch_norm2 = nn.BatchNorm2d(conv_dim*2)\n",
    "        self.cl3 = nn.Conv2d(conv_dim*2, conv_dim*4, kernel_size = 4, stride = 2, padding = 1, bias=False)\n",
    "        \n",
    "        self.fc1 = nn.Linear(conv_dim*4*4*4, 1)\n",
    "        #no dropout\n",
    "        \n",
    "\n",
    "    def forward(self, x):\n",
    "        \"\"\"\n",
    "        Forward propagation of the neural network\n",
    "        :param x: The input to the neural network     \n",
    "        :return: Discriminator logits; the output of the neural network\n",
    "        \"\"\"\n",
    "        neg_slope = 0.01\n",
    "        # define feedforward behavior        \n",
    "        x = F.leaky_relu(self.batch_norm1(self.cl1(x)), neg_slope)\n",
    "        x = F.leaky_relu(self.batch_norm2(self.cl2(x)), neg_slope)\n",
    "        x = self.cl3(x)\n",
    "    \n",
    "        x = x.view(-1, self.conv_dim*4*4*4)\n",
    "        \n",
    "        x = F.sigmoid(self.fc1(x))\n",
    "        \n",
    "        return x\n",
    "\n",
    "\n",
    "\"\"\"\n",
    "DON'T MODIFY ANYTHING IN THIS CELL THAT IS BELOW THIS LINE\n",
    "\"\"\"\n",
    "tests.test_discriminator(Discriminator)"
   ]
  },
  {
   "cell_type": "markdown",
   "metadata": {},
   "source": [
    "## Generator\n",
    "\n",
    "The generator should upsample an input and generate a *new* image of the same size as our training data `32x32x3`. This should be mostly transpose convolutional layers with normalization applied to the outputs.\n",
    "\n",
    "#### Exercise: Complete the Generator class\n",
    "* The inputs to the generator are vectors of some length `z_size`\n",
    "* The output should be a image of shape `32x32x3`"
   ]
  },
  {
   "cell_type": "code",
   "execution_count": 12,
   "metadata": {},
   "outputs": [
    {
     "name": "stdout",
     "output_type": "stream",
     "text": [
      "Tests Passed\n"
     ]
    }
   ],
   "source": [
    "class Generator(nn.Module):\n",
    "    \n",
    "    def __init__(self, z_size, conv_dim):\n",
    "        \"\"\"\n",
    "        Initialize the Generator Module\n",
    "        :param z_size: The length of the input latent vector, z\n",
    "        :param conv_dim: The depth of the inputs to the *last* transpose convolutional layer\n",
    "        \"\"\"\n",
    "        super(Generator, self).__init__()\n",
    "\n",
    "        # complete init function\n",
    "        self.conv_dim = conv_dim\n",
    "        self.tcl1 = nn.ConvTranspose2d(conv_dim, conv_dim*4, kernel_size = 4, stride = 2, padding = 1, bias=False)\n",
    "        self.batch_norm1 = nn.BatchNorm2d(conv_dim*4)\n",
    "        self.tcl2 = nn.ConvTranspose2d(conv_dim*4, conv_dim*2, kernel_size = 4, stride = 2, padding = 1, bias=False)\n",
    "        self.batch_norm2 = nn.BatchNorm2d(conv_dim*2)\n",
    "        self.tcl3 = nn.ConvTranspose2d(conv_dim*2, 3, kernel_size = 4, stride = 2, padding = 1, bias=False)\n",
    "        self.fc1 = nn.Linear(z_size, conv_dim*4*4)\n",
    "        \n",
    "        \n",
    "\n",
    "    def forward(self, x):\n",
    "        \"\"\"\n",
    "        Forward propagation of the neural network\n",
    "        :param x: The input to the neural network     \n",
    "        :return: A 32x32x3 Tensor image as output\n",
    "        \"\"\"\n",
    "        neg_slope = 0.001\n",
    "        # define feedforward behavior\n",
    "        batchx = x.shape[0]\n",
    "        x = self.fc1(x)\n",
    "        x = x.view(batchx, self.conv_dim, 4, 4 )\n",
    "        x = F.relu(self.batch_norm1(self.tcl1(x)))\n",
    "        x = F.relu(self.batch_norm2(self.tcl2(x)))\n",
    "        x = self.tcl3(x)\n",
    "        \n",
    "        x = F.tanh(x)\n",
    "        \n",
    "        return x\n",
    "       \n",
    "\n",
    "\"\"\"\n",
    "DON'T MODIFY ANYTHING IN THIS CELL THAT IS BELOW THIS LINE\n",
    "\"\"\"\n",
    "tests.test_generator(Generator)"
   ]
  },
  {
   "cell_type": "markdown",
   "metadata": {},
   "source": [
    "## Initialize the weights of your networks\n",
    "\n",
    "To help your models converge, you should initialize the weights of the convolutional and linear layers in your model. From reading the [original DCGAN paper](https://arxiv.org/pdf/1511.06434.pdf), they say:\n",
    "> All weights were initialized from a zero-centered Normal distribution with standard deviation 0.02.\n",
    "\n",
    "So, your next task will be to define a weight initialization function that does just this!\n",
    "\n",
    "You can refer back to the lesson on weight initialization or even consult existing model code, such as that from [the `networks.py` file in CycleGAN Github repository](https://github.com/junyanz/pytorch-CycleGAN-and-pix2pix/blob/master/models/networks.py) to help you complete this function.\n",
    "\n",
    "#### Exercise: Complete the weight initialization function\n",
    "\n",
    "* This should initialize only **convolutional** and **linear** layers\n",
    "* Initialize the weights to a normal distribution, centered around 0, with a standard deviation of 0.02.\n",
    "* The bias terms, if they exist, may be left alone or set to 0."
   ]
  },
  {
   "cell_type": "code",
   "execution_count": 13,
   "metadata": {},
   "outputs": [],
   "source": [
    "\n",
    "from torch.nn import init\n",
    "def weights_init_normal(m):\n",
    "    \"\"\"\n",
    "    Applies initial weights to certain layers in a model .\n",
    "    The weights are taken from a normal distribution \n",
    "    with mean = 0, std dev = 0.02.\n",
    "    :param m: A module or layer in a network    \n",
    "    \"\"\"\n",
    "\n",
    "    classname = m.__class__.__name__\n",
    "    \n",
    "    # TODO: Apply initial weights to convolutional and linear layers\n",
    "    if hasattr(m, 'weight') and (classname.find('Conv') != -1 or classname.find('Linear') != -1):\n",
    "        nn.init.normal_(m.weight.data, 0.0, 0.02)\n",
    "        if  hasattr(m.bias, 'data'):\n",
    "            nn.init.constant_(m.bias.data, 0.0)\n",
    "\n",
    "    "
   ]
  },
  {
   "cell_type": "markdown",
   "metadata": {
    "collapsed": true
   },
   "source": [
    "## Build complete network\n",
    "\n",
    "Define your models' hyperparameters and instantiate the discriminator and generator from the classes defined above. Make sure you've passed in the correct input arguments."
   ]
  },
  {
   "cell_type": "code",
   "execution_count": 14,
   "metadata": {},
   "outputs": [],
   "source": [
    "\"\"\"\n",
    "DON'T MODIFY ANYTHING IN THIS CELL THAT IS BELOW THIS LINE\n",
    "\"\"\"\n",
    "def build_network(d_conv_dim, g_conv_dim, z_size):\n",
    "    # define discriminator and generator\n",
    "    D = Discriminator(d_conv_dim)\n",
    "    G = Generator(z_size=z_size, conv_dim=g_conv_dim)\n",
    "\n",
    "    # initialize model weights\n",
    "    D.apply(weights_init_normal)\n",
    "    G.apply(weights_init_normal)\n",
    "\n",
    "    print(D)\n",
    "    print()\n",
    "    print(G)\n",
    "    \n",
    "    return D, G\n"
   ]
  },
  {
   "cell_type": "markdown",
   "metadata": {},
   "source": [
    "#### Exercise: Define model hyperparameters"
   ]
  },
  {
   "cell_type": "code",
   "execution_count": 15,
   "metadata": {},
   "outputs": [
    {
     "name": "stdout",
     "output_type": "stream",
     "text": [
      "Discriminator(\n",
      "  (cl1): Conv2d(3, 32, kernel_size=(4, 4), stride=(2, 2), padding=(1, 1), bias=False)\n",
      "  (batch_norm1): BatchNorm2d(32, eps=1e-05, momentum=0.1, affine=True, track_running_stats=True)\n",
      "  (cl2): Conv2d(32, 64, kernel_size=(4, 4), stride=(2, 2), padding=(1, 1), bias=False)\n",
      "  (batch_norm2): BatchNorm2d(64, eps=1e-05, momentum=0.1, affine=True, track_running_stats=True)\n",
      "  (cl3): Conv2d(64, 128, kernel_size=(4, 4), stride=(2, 2), padding=(1, 1), bias=False)\n",
      "  (fc1): Linear(in_features=2048, out_features=1, bias=True)\n",
      ")\n",
      "\n",
      "Generator(\n",
      "  (tcl1): ConvTranspose2d(32, 128, kernel_size=(4, 4), stride=(2, 2), padding=(1, 1), bias=False)\n",
      "  (batch_norm1): BatchNorm2d(128, eps=1e-05, momentum=0.1, affine=True, track_running_stats=True)\n",
      "  (tcl2): ConvTranspose2d(128, 64, kernel_size=(4, 4), stride=(2, 2), padding=(1, 1), bias=False)\n",
      "  (batch_norm2): BatchNorm2d(64, eps=1e-05, momentum=0.1, affine=True, track_running_stats=True)\n",
      "  (tcl3): ConvTranspose2d(64, 3, kernel_size=(4, 4), stride=(2, 2), padding=(1, 1), bias=False)\n",
      "  (fc1): Linear(in_features=120, out_features=512, bias=True)\n",
      ")\n"
     ]
    }
   ],
   "source": [
    "# Define model hyperparams\n",
    "d_conv_dim = 32\n",
    "g_conv_dim = 32\n",
    "z_size = 120\n",
    "\n",
    "\"\"\"\n",
    "DON'T MODIFY ANYTHING IN THIS CELL THAT IS BELOW THIS LINE\n",
    "\"\"\"\n",
    "D, G = build_network(d_conv_dim, g_conv_dim, z_size)"
   ]
  },
  {
   "cell_type": "markdown",
   "metadata": {},
   "source": [
    "### Training on GPU\n",
    "\n",
    "Check if you can train on GPU. Here, we'll set this as a boolean variable `train_on_gpu`. Later, you'll be responsible for making sure that \n",
    ">* Models,\n",
    "* Model inputs, and\n",
    "* Loss function arguments\n",
    "\n",
    "Are moved to GPU, where appropriate."
   ]
  },
  {
   "cell_type": "code",
   "execution_count": 16,
   "metadata": {},
   "outputs": [
    {
     "name": "stdout",
     "output_type": "stream",
     "text": [
      "Training on GPU!\n"
     ]
    }
   ],
   "source": [
    "\"\"\"\n",
    "DON'T MODIFY ANYTHING IN THIS CELL\n",
    "\"\"\"\n",
    "import torch\n",
    "\n",
    "# Check for a GPU\n",
    "train_on_gpu = torch.cuda.is_available()\n",
    "if not train_on_gpu:\n",
    "    print('No GPU found. Please use a GPU to train your neural network.')\n",
    "else:\n",
    "    print('Training on GPU!')"
   ]
  },
  {
   "cell_type": "markdown",
   "metadata": {},
   "source": [
    "---\n",
    "## Discriminator and Generator Losses\n",
    "\n",
    "Now we need to calculate the losses for both types of adversarial networks.\n",
    "\n",
    "### Discriminator Losses\n",
    "\n",
    "> * For the discriminator, the total loss is the sum of the losses for real and fake images, `d_loss = d_real_loss + d_fake_loss`. \n",
    "* Remember that we want the discriminator to output 1 for real images and 0 for fake images, so we need to set up the losses to reflect that.\n",
    "\n",
    "\n",
    "### Generator Loss\n",
    "\n",
    "The generator loss will look similar only with flipped labels. The generator's goal is to get the discriminator to *think* its generated images are *real*.\n",
    "\n",
    "#### Exercise: Complete real and fake loss functions\n",
    "\n",
    "**You may choose to use either cross entropy or a least squares error loss to complete the following `real_loss` and `fake_loss` functions.**"
   ]
  },
  {
   "cell_type": "code",
   "execution_count": 17,
   "metadata": {},
   "outputs": [],
   "source": [
    "def real_loss(D_out, smooth=False):\n",
    "    '''Calculates how close discriminator outputs are to being real.\n",
    "   param, D_out: discriminator logits\n",
    "   param, smooth: value to assign to labels, or 0.9 if True\n",
    "   return: real loss'''\n",
    "    batch_size = D_out.size(0)\n",
    "    \n",
    "    if smooth:\n",
    "        labels = torch.ones(batch_size)*0.9\n",
    "    else:\n",
    "        labels = torch.ones(batch_size)\n",
    "         \n",
    "    if train_on_gpu:\n",
    "        labels = labels.cuda()\n",
    "    \n",
    "    criterion = nn.BCELoss()\n",
    "    loss = criterion(D_out.squeeze(), labels)\n",
    "    return loss\n",
    "\n",
    "def fake_loss(D_out):\n",
    "    '''Calculates how close discriminator outputs are to being fake.\n",
    "   param, D_out: discriminator logits\n",
    "   return: fake loss'''\n",
    "    batch_size = D_out.size(0)\n",
    "    labels = torch.zeros(batch_size)\n",
    "    if train_on_gpu:\n",
    "        labels = labels.cuda()\n",
    "    criterion = nn.BCELoss()\n",
    "    # calculate loss\n",
    "    loss = criterion(D_out.squeeze(), labels)\n",
    "    return loss"
   ]
  },
  {
   "cell_type": "markdown",
   "metadata": {},
   "source": [
    "## Optimizers\n",
    "\n",
    "#### Exercise: Define optimizers for your Discriminator (D) and Generator (G)\n",
    "\n",
    "Define optimizers for your models with appropriate hyperparameters."
   ]
  },
  {
   "cell_type": "code",
   "execution_count": 18,
   "metadata": {},
   "outputs": [],
   "source": [
    "import torch.optim as optim\n",
    "\n",
    "lr = 0.0005\n",
    "beta1=0.4\n",
    "beta2=0.999\n",
    "\n",
    "# Create optimizers for the discriminator D and generator G\n",
    "d_optimizer = optim.Adam(D.parameters(), lr=lr, betas = [beta1, beta2])\n",
    "g_optimizer = optim.Adam(G.parameters(), lr=lr, betas = [beta1, beta2])"
   ]
  },
  {
   "cell_type": "markdown",
   "metadata": {},
   "source": [
    "---\n",
    "## Training\n",
    "\n",
    "Training will involve alternating between training the discriminator and the generator. You'll use your functions `real_loss` and `fake_loss` to help you calculate the discriminator losses.\n",
    "\n",
    "* You should train the discriminator by alternating on real and fake images\n",
    "* Then the generator, which tries to trick the discriminator and should have an opposing loss function\n",
    "\n",
    "\n",
    "#### Saving Samples\n",
    "\n",
    "You've been given some code to print out some loss statistics and save some generated \"fake\" samples."
   ]
  },
  {
   "cell_type": "markdown",
   "metadata": {},
   "source": [
    "#### Exercise: Complete the training function\n",
    "\n",
    "Keep in mind that, if you've moved your models to GPU, you'll also have to move any model inputs to GPU."
   ]
  },
  {
   "cell_type": "code",
   "execution_count": 19,
   "metadata": {},
   "outputs": [],
   "source": [
    "def train(D, G, n_epochs, print_every=50):\n",
    "    '''Trains adversarial networks for some number of epochs\n",
    "       param, D: the discriminator network\n",
    "       param, G: the generator network\n",
    "       param, n_epochs: number of epochs to train for\n",
    "       param, print_every: when to print and record the models' losses\n",
    "       return: D and G losses'''\n",
    "    \n",
    "    # move models to GPU\n",
    "    if train_on_gpu:\n",
    "        D.cuda()\n",
    "        G.cuda()\n",
    "\n",
    "    # keep track of loss and generated, \"fake\" samples\n",
    "    samples = []\n",
    "    losses = []\n",
    "\n",
    "    # Get some fixed data for sampling. These are images that are held\n",
    "    # constant throughout training, and allow us to inspect the model's performance\n",
    "    sample_size=16\n",
    "    fixed_z = np.random.uniform(-1, 1, size=(sample_size, z_size))\n",
    "    fixed_z = torch.from_numpy(fixed_z).float()\n",
    "    # move z to GPU if available\n",
    "    if train_on_gpu:\n",
    "        fixed_z = fixed_z.cuda()\n",
    "\n",
    "    # epoch training loop\n",
    "    for epoch in range(n_epochs):\n",
    "\n",
    "        # batch training loop\n",
    "        for batch_i, (real_images, _) in enumerate(celeba_train_loader):\n",
    "\n",
    "            batch_size = real_images.size(0)\n",
    "            real_images = scale(real_images)\n",
    "\n",
    "            # ===============================================\n",
    "            #         YOUR CODE HERE: TRAIN THE NETWORKS\n",
    "            # ===============================================\n",
    "            \n",
    "            # 1. Train the discriminator on real and fake images\n",
    "            d_optimizer.zero_grad()\n",
    "            # Compute the discriminator losses on real images\n",
    "            # use smoothed labels\n",
    "            if train_on_gpu:\n",
    "                real_images = real_images.cuda()\n",
    "                \n",
    "            D_real = D(real_images)\n",
    "            d_real_loss = real_loss(D_real)\n",
    "\n",
    "            # 2. Train with fake images\n",
    "\n",
    "            # Generate fake images\n",
    "            z = np.random.uniform(-1, 1, size=(batch_size, z_size))\n",
    "            z = torch.from_numpy(z).float()\n",
    "            # move x to GPU, if available\n",
    "            if train_on_gpu:\n",
    "                z = z.cuda()\n",
    "            fake_images = G(z)\n",
    "\n",
    "            # Compute the discriminator losses on fake images        \n",
    "\n",
    "            D_fake = D(fake_images)\n",
    "            d_fake_loss = fake_loss(D_fake)\n",
    "\n",
    "            # add up real and fake losses and perform backprop\n",
    "            d_loss = d_real_loss + d_fake_loss\n",
    "            d_loss.backward()\n",
    "            d_optimizer.step()\n",
    "            \n",
    "            \n",
    "            # 2. Train the generator with an adversarial loss\n",
    "            g_optimizer.zero_grad()\n",
    "        \n",
    "            # Generate fake images\n",
    "            z = np.random.uniform(-1, 1, size=(batch_size, z_size))\n",
    "            z = torch.from_numpy(z).float()\n",
    "            if train_on_gpu:\n",
    "                z = z.cuda()\n",
    "            fake_images = G(z)\n",
    "\n",
    "            # Compute the discriminator losses on fake images \n",
    "            # using flipped labels!\n",
    "            D_fake = D(fake_images)\n",
    "            g_loss = real_loss(D_fake)\n",
    "\n",
    "            # perform backprop\n",
    "            g_loss.backward()\n",
    "            g_optimizer.step()\n",
    "            \n",
    "            \n",
    "            # ===============================================\n",
    "            #              END OF YOUR CODE\n",
    "            # ===============================================\n",
    "\n",
    "            # Print some loss stats\n",
    "            if batch_i % print_every == 0:\n",
    "                # append discriminator loss and generator loss\n",
    "                losses.append((d_loss.item(), g_loss.item()))\n",
    "                # print discriminator and generator loss\n",
    "                print('Epoch [{:5d}/{:5d}] | d_loss: {:6.4f} | g_loss: {:6.4f}'.format(\n",
    "                        epoch+1, n_epochs, d_loss.item(), g_loss.item()))\n",
    "\n",
    "\n",
    "        ## AFTER EACH EPOCH##    \n",
    "        # this code assumes your generator is named G, feel free to change the name\n",
    "        # generate and save sample, fake images\n",
    "        G.eval() # for generating samples\n",
    "        samples_z = G(fixed_z)\n",
    "        samples.append(samples_z)\n",
    "        G.train() # back to training mode\n",
    "\n",
    "    # Save training generator samples\n",
    "    with open('train_samples.pkl', 'wb') as f:\n",
    "        pkl.dump(samples, f)\n",
    "    \n",
    "    # finally return losses\n",
    "    return losses"
   ]
  },
  {
   "cell_type": "markdown",
   "metadata": {},
   "source": [
    "Set your number of training epochs and train your GAN!"
   ]
  },
  {
   "cell_type": "code",
   "execution_count": 20,
   "metadata": {},
   "outputs": [
    {
     "name": "stdout",
     "output_type": "stream",
     "text": [
      "Epoch [    1/   13] | d_loss: 1.4021 | g_loss: 0.7706\n",
      "Epoch [    1/   13] | d_loss: 0.7001 | g_loss: 2.3345\n",
      "Epoch [    1/   13] | d_loss: 1.1017 | g_loss: 1.4186\n",
      "Epoch [    1/   13] | d_loss: 1.1757 | g_loss: 1.5713\n",
      "Epoch [    1/   13] | d_loss: 1.1799 | g_loss: 1.2815\n",
      "Epoch [    1/   13] | d_loss: 1.7016 | g_loss: 1.6577\n",
      "Epoch [    1/   13] | d_loss: 1.3218 | g_loss: 0.9191\n",
      "Epoch [    1/   13] | d_loss: 1.3512 | g_loss: 1.1753\n",
      "Epoch [    1/   13] | d_loss: 1.2687 | g_loss: 1.4809\n",
      "Epoch [    1/   13] | d_loss: 1.3814 | g_loss: 1.4168\n",
      "Epoch [    1/   13] | d_loss: 1.3221 | g_loss: 0.7427\n",
      "Epoch [    1/   13] | d_loss: 1.3762 | g_loss: 0.9664\n",
      "Epoch [    1/   13] | d_loss: 1.4839 | g_loss: 0.8397\n",
      "Epoch [    1/   13] | d_loss: 1.3691 | g_loss: 1.1524\n",
      "Epoch [    1/   13] | d_loss: 1.2919 | g_loss: 1.0955\n",
      "Epoch [    1/   13] | d_loss: 1.3894 | g_loss: 0.8688\n",
      "Epoch [    1/   13] | d_loss: 1.3333 | g_loss: 1.0708\n",
      "Epoch [    1/   13] | d_loss: 1.2709 | g_loss: 0.9389\n",
      "Epoch [    1/   13] | d_loss: 1.4798 | g_loss: 1.2756\n",
      "Epoch [    1/   13] | d_loss: 1.4178 | g_loss: 0.9059\n",
      "Epoch [    1/   13] | d_loss: 1.3377 | g_loss: 0.7965\n",
      "Epoch [    1/   13] | d_loss: 1.3268 | g_loss: 1.1157\n",
      "Epoch [    1/   13] | d_loss: 1.1981 | g_loss: 1.0659\n",
      "Epoch [    1/   13] | d_loss: 1.3945 | g_loss: 0.9240\n",
      "Epoch [    1/   13] | d_loss: 1.3236 | g_loss: 0.9383\n",
      "Epoch [    2/   13] | d_loss: 1.3320 | g_loss: 0.9009\n",
      "Epoch [    2/   13] | d_loss: 1.4144 | g_loss: 1.3332\n",
      "Epoch [    2/   13] | d_loss: 1.3161 | g_loss: 0.8264\n",
      "Epoch [    2/   13] | d_loss: 1.5255 | g_loss: 0.5947\n",
      "Epoch [    2/   13] | d_loss: 1.3367 | g_loss: 0.9140\n",
      "Epoch [    2/   13] | d_loss: 1.2438 | g_loss: 1.0830\n",
      "Epoch [    2/   13] | d_loss: 1.2481 | g_loss: 1.0183\n",
      "Epoch [    2/   13] | d_loss: 1.3243 | g_loss: 0.9044\n",
      "Epoch [    2/   13] | d_loss: 1.3709 | g_loss: 0.8592\n",
      "Epoch [    2/   13] | d_loss: 1.2871 | g_loss: 0.7517\n",
      "Epoch [    2/   13] | d_loss: 1.3437 | g_loss: 0.9828\n",
      "Epoch [    2/   13] | d_loss: 1.3887 | g_loss: 0.8021\n",
      "Epoch [    2/   13] | d_loss: 1.3492 | g_loss: 0.9522\n",
      "Epoch [    2/   13] | d_loss: 1.4127 | g_loss: 0.6822\n",
      "Epoch [    2/   13] | d_loss: 1.3758 | g_loss: 0.8345\n",
      "Epoch [    2/   13] | d_loss: 1.4142 | g_loss: 1.2066\n",
      "Epoch [    2/   13] | d_loss: 1.3554 | g_loss: 0.7891\n",
      "Epoch [    2/   13] | d_loss: 1.4181 | g_loss: 0.6109\n",
      "Epoch [    2/   13] | d_loss: 1.3729 | g_loss: 0.8194\n",
      "Epoch [    2/   13] | d_loss: 1.3152 | g_loss: 0.8394\n",
      "Epoch [    2/   13] | d_loss: 1.3661 | g_loss: 0.7887\n",
      "Epoch [    2/   13] | d_loss: 1.3374 | g_loss: 0.8435\n",
      "Epoch [    2/   13] | d_loss: 1.3718 | g_loss: 0.8347\n",
      "Epoch [    2/   13] | d_loss: 1.3741 | g_loss: 0.9027\n",
      "Epoch [    2/   13] | d_loss: 1.3576 | g_loss: 0.8735\n",
      "Epoch [    3/   13] | d_loss: 1.3725 | g_loss: 0.9215\n",
      "Epoch [    3/   13] | d_loss: 1.3520 | g_loss: 0.7483\n",
      "Epoch [    3/   13] | d_loss: 1.3187 | g_loss: 0.8586\n",
      "Epoch [    3/   13] | d_loss: 1.3276 | g_loss: 0.7439\n",
      "Epoch [    3/   13] | d_loss: 1.3706 | g_loss: 0.8289\n",
      "Epoch [    3/   13] | d_loss: 1.3211 | g_loss: 0.8964\n",
      "Epoch [    3/   13] | d_loss: 1.3731 | g_loss: 0.7814\n",
      "Epoch [    3/   13] | d_loss: 1.3921 | g_loss: 0.7069\n",
      "Epoch [    3/   13] | d_loss: 1.4379 | g_loss: 0.7103\n",
      "Epoch [    3/   13] | d_loss: 1.3698 | g_loss: 0.6903\n",
      "Epoch [    3/   13] | d_loss: 1.2569 | g_loss: 0.8521\n",
      "Epoch [    3/   13] | d_loss: 1.2976 | g_loss: 0.9356\n",
      "Epoch [    3/   13] | d_loss: 1.3864 | g_loss: 0.7785\n",
      "Epoch [    3/   13] | d_loss: 1.4030 | g_loss: 0.8570\n",
      "Epoch [    3/   13] | d_loss: 1.3465 | g_loss: 0.9103\n",
      "Epoch [    3/   13] | d_loss: 1.3338 | g_loss: 0.9094\n",
      "Epoch [    3/   13] | d_loss: 1.4215 | g_loss: 0.8843\n",
      "Epoch [    3/   13] | d_loss: 1.3991 | g_loss: 0.7607\n",
      "Epoch [    3/   13] | d_loss: 1.4193 | g_loss: 0.8069\n",
      "Epoch [    3/   13] | d_loss: 1.3373 | g_loss: 0.8211\n",
      "Epoch [    3/   13] | d_loss: 1.3579 | g_loss: 0.8280\n",
      "Epoch [    3/   13] | d_loss: 1.3530 | g_loss: 0.8947\n",
      "Epoch [    3/   13] | d_loss: 1.3269 | g_loss: 0.9347\n",
      "Epoch [    3/   13] | d_loss: 1.3338 | g_loss: 0.7752\n",
      "Epoch [    3/   13] | d_loss: 1.3106 | g_loss: 0.8201\n",
      "Epoch [    4/   13] | d_loss: 1.4825 | g_loss: 1.0764\n",
      "Epoch [    4/   13] | d_loss: 1.3158 | g_loss: 0.8117\n",
      "Epoch [    4/   13] | d_loss: 1.4097 | g_loss: 0.8198\n",
      "Epoch [    4/   13] | d_loss: 1.3508 | g_loss: 0.7642\n",
      "Epoch [    4/   13] | d_loss: 1.3286 | g_loss: 0.8959\n",
      "Epoch [    4/   13] | d_loss: 1.3860 | g_loss: 0.6868\n",
      "Epoch [    4/   13] | d_loss: 1.4121 | g_loss: 0.7773\n",
      "Epoch [    4/   13] | d_loss: 1.3612 | g_loss: 0.8051\n",
      "Epoch [    4/   13] | d_loss: 1.3141 | g_loss: 0.7945\n",
      "Epoch [    4/   13] | d_loss: 1.4003 | g_loss: 0.7902\n",
      "Epoch [    4/   13] | d_loss: 1.2979 | g_loss: 0.8656\n",
      "Epoch [    4/   13] | d_loss: 1.3358 | g_loss: 0.8675\n",
      "Epoch [    4/   13] | d_loss: 1.3625 | g_loss: 0.7322\n",
      "Epoch [    4/   13] | d_loss: 1.4106 | g_loss: 0.7959\n",
      "Epoch [    4/   13] | d_loss: 1.3383 | g_loss: 0.8255\n",
      "Epoch [    4/   13] | d_loss: 1.3518 | g_loss: 0.7802\n",
      "Epoch [    4/   13] | d_loss: 1.3422 | g_loss: 0.7981\n",
      "Epoch [    4/   13] | d_loss: 1.4228 | g_loss: 0.7309\n",
      "Epoch [    4/   13] | d_loss: 1.3152 | g_loss: 0.8108\n",
      "Epoch [    4/   13] | d_loss: 1.4780 | g_loss: 0.7224\n",
      "Epoch [    4/   13] | d_loss: 1.4026 | g_loss: 0.8471\n",
      "Epoch [    4/   13] | d_loss: 1.4188 | g_loss: 0.7733\n",
      "Epoch [    4/   13] | d_loss: 1.3802 | g_loss: 0.7179\n",
      "Epoch [    4/   13] | d_loss: 1.3677 | g_loss: 0.7552\n",
      "Epoch [    4/   13] | d_loss: 1.3972 | g_loss: 0.7435\n",
      "Epoch [    5/   13] | d_loss: 1.4264 | g_loss: 0.6932\n",
      "Epoch [    5/   13] | d_loss: 1.3538 | g_loss: 0.7476\n",
      "Epoch [    5/   13] | d_loss: 1.3628 | g_loss: 0.7578\n",
      "Epoch [    5/   13] | d_loss: 1.3554 | g_loss: 0.7944\n",
      "Epoch [    5/   13] | d_loss: 1.3389 | g_loss: 0.7725\n",
      "Epoch [    5/   13] | d_loss: 1.3709 | g_loss: 0.8639\n",
      "Epoch [    5/   13] | d_loss: 1.3888 | g_loss: 0.7462\n",
      "Epoch [    5/   13] | d_loss: 1.3772 | g_loss: 0.7487\n",
      "Epoch [    5/   13] | d_loss: 1.3700 | g_loss: 0.7430\n",
      "Epoch [    5/   13] | d_loss: 1.4030 | g_loss: 0.7182\n",
      "Epoch [    5/   13] | d_loss: 1.3585 | g_loss: 0.6977\n",
      "Epoch [    5/   13] | d_loss: 1.3791 | g_loss: 0.7892\n",
      "Epoch [    5/   13] | d_loss: 1.3838 | g_loss: 0.6667\n",
      "Epoch [    5/   13] | d_loss: 1.3773 | g_loss: 0.7939\n",
      "Epoch [    5/   13] | d_loss: 1.4120 | g_loss: 0.7030\n",
      "Epoch [    5/   13] | d_loss: 1.3996 | g_loss: 0.7333\n",
      "Epoch [    5/   13] | d_loss: 1.4047 | g_loss: 0.7938\n",
      "Epoch [    5/   13] | d_loss: 1.4032 | g_loss: 0.7257\n",
      "Epoch [    5/   13] | d_loss: 1.2991 | g_loss: 0.8086\n",
      "Epoch [    5/   13] | d_loss: 1.3656 | g_loss: 0.7090\n",
      "Epoch [    5/   13] | d_loss: 1.3687 | g_loss: 0.7806\n",
      "Epoch [    5/   13] | d_loss: 1.3643 | g_loss: 0.7593\n",
      "Epoch [    5/   13] | d_loss: 1.3966 | g_loss: 0.6752\n",
      "Epoch [    5/   13] | d_loss: 1.3334 | g_loss: 0.8030\n",
      "Epoch [    5/   13] | d_loss: 1.3838 | g_loss: 0.6835\n",
      "Epoch [    6/   13] | d_loss: 1.4421 | g_loss: 0.7038\n",
      "Epoch [    6/   13] | d_loss: 1.3361 | g_loss: 0.7711\n",
      "Epoch [    6/   13] | d_loss: 1.3656 | g_loss: 0.7804\n",
      "Epoch [    6/   13] | d_loss: 1.4207 | g_loss: 0.7271\n",
      "Epoch [    6/   13] | d_loss: 1.3414 | g_loss: 0.8285\n",
      "Epoch [    6/   13] | d_loss: 1.3468 | g_loss: 0.7086\n",
      "Epoch [    6/   13] | d_loss: 1.3837 | g_loss: 0.7533\n",
      "Epoch [    6/   13] | d_loss: 1.3692 | g_loss: 0.7205\n",
      "Epoch [    6/   13] | d_loss: 1.3875 | g_loss: 0.7818\n",
      "Epoch [    6/   13] | d_loss: 1.3884 | g_loss: 0.7346\n",
      "Epoch [    6/   13] | d_loss: 1.3661 | g_loss: 0.7416\n",
      "Epoch [    6/   13] | d_loss: 1.3746 | g_loss: 0.7934\n",
      "Epoch [    6/   13] | d_loss: 1.3740 | g_loss: 0.6931\n",
      "Epoch [    6/   13] | d_loss: 1.4070 | g_loss: 0.7625\n",
      "Epoch [    6/   13] | d_loss: 1.3764 | g_loss: 0.7417\n",
      "Epoch [    6/   13] | d_loss: 1.3787 | g_loss: 0.7909\n",
      "Epoch [    6/   13] | d_loss: 1.3998 | g_loss: 0.7016\n",
      "Epoch [    6/   13] | d_loss: 1.3535 | g_loss: 0.7140\n",
      "Epoch [    6/   13] | d_loss: 1.4472 | g_loss: 0.6927\n",
      "Epoch [    6/   13] | d_loss: 1.4007 | g_loss: 0.7530\n",
      "Epoch [    6/   13] | d_loss: 1.3119 | g_loss: 0.7994\n",
      "Epoch [    6/   13] | d_loss: 1.3922 | g_loss: 0.7173\n",
      "Epoch [    6/   13] | d_loss: 1.3654 | g_loss: 0.7493\n",
      "Epoch [    6/   13] | d_loss: 1.3611 | g_loss: 0.7748\n",
      "Epoch [    6/   13] | d_loss: 1.3884 | g_loss: 0.7160\n",
      "Epoch [    7/   13] | d_loss: 1.3876 | g_loss: 0.7292\n",
      "Epoch [    7/   13] | d_loss: 1.3639 | g_loss: 0.6456\n"
     ]
    },
    {
     "name": "stdout",
     "output_type": "stream",
     "text": [
      "Epoch [    7/   13] | d_loss: 1.3633 | g_loss: 0.7978\n",
      "Epoch [    7/   13] | d_loss: 1.3896 | g_loss: 0.6892\n",
      "Epoch [    7/   13] | d_loss: 1.3775 | g_loss: 0.7707\n",
      "Epoch [    7/   13] | d_loss: 1.3729 | g_loss: 0.8297\n",
      "Epoch [    7/   13] | d_loss: 1.3654 | g_loss: 0.7171\n",
      "Epoch [    7/   13] | d_loss: 1.3461 | g_loss: 0.8174\n",
      "Epoch [    7/   13] | d_loss: 1.4515 | g_loss: 0.7091\n",
      "Epoch [    7/   13] | d_loss: 1.3734 | g_loss: 0.7076\n",
      "Epoch [    7/   13] | d_loss: 1.3800 | g_loss: 0.7047\n",
      "Epoch [    7/   13] | d_loss: 1.3369 | g_loss: 0.8025\n",
      "Epoch [    7/   13] | d_loss: 1.3841 | g_loss: 0.7402\n",
      "Epoch [    7/   13] | d_loss: 1.3720 | g_loss: 0.7724\n",
      "Epoch [    7/   13] | d_loss: 1.4084 | g_loss: 0.7482\n",
      "Epoch [    7/   13] | d_loss: 1.4112 | g_loss: 0.7644\n",
      "Epoch [    7/   13] | d_loss: 1.3417 | g_loss: 0.7857\n",
      "Epoch [    7/   13] | d_loss: 1.3681 | g_loss: 0.7390\n",
      "Epoch [    7/   13] | d_loss: 1.4072 | g_loss: 0.7316\n",
      "Epoch [    7/   13] | d_loss: 1.3890 | g_loss: 0.6474\n",
      "Epoch [    7/   13] | d_loss: 1.4141 | g_loss: 0.7841\n",
      "Epoch [    7/   13] | d_loss: 1.3539 | g_loss: 0.6896\n",
      "Epoch [    7/   13] | d_loss: 1.3824 | g_loss: 0.6953\n",
      "Epoch [    7/   13] | d_loss: 1.3646 | g_loss: 0.6981\n",
      "Epoch [    7/   13] | d_loss: 1.3915 | g_loss: 0.7526\n",
      "Epoch [    8/   13] | d_loss: 1.4392 | g_loss: 0.6938\n",
      "Epoch [    8/   13] | d_loss: 1.3629 | g_loss: 0.7291\n",
      "Epoch [    8/   13] | d_loss: 1.3956 | g_loss: 0.7153\n",
      "Epoch [    8/   13] | d_loss: 1.3631 | g_loss: 0.7229\n",
      "Epoch [    8/   13] | d_loss: 1.3848 | g_loss: 0.7441\n",
      "Epoch [    8/   13] | d_loss: 1.3797 | g_loss: 0.7598\n",
      "Epoch [    8/   13] | d_loss: 1.3835 | g_loss: 0.8048\n",
      "Epoch [    8/   13] | d_loss: 1.4149 | g_loss: 0.7954\n",
      "Epoch [    8/   13] | d_loss: 1.3734 | g_loss: 0.7450\n",
      "Epoch [    8/   13] | d_loss: 1.3660 | g_loss: 0.7529\n",
      "Epoch [    8/   13] | d_loss: 1.3615 | g_loss: 0.7931\n",
      "Epoch [    8/   13] | d_loss: 1.3967 | g_loss: 0.7397\n",
      "Epoch [    8/   13] | d_loss: 1.3405 | g_loss: 0.7785\n",
      "Epoch [    8/   13] | d_loss: 1.3381 | g_loss: 0.7609\n",
      "Epoch [    8/   13] | d_loss: 1.3934 | g_loss: 0.7267\n",
      "Epoch [    8/   13] | d_loss: 1.3852 | g_loss: 0.7351\n",
      "Epoch [    8/   13] | d_loss: 1.3850 | g_loss: 0.7767\n",
      "Epoch [    8/   13] | d_loss: 1.3958 | g_loss: 0.7733\n",
      "Epoch [    8/   13] | d_loss: 1.4253 | g_loss: 0.7526\n",
      "Epoch [    8/   13] | d_loss: 1.4188 | g_loss: 0.7247\n",
      "Epoch [    8/   13] | d_loss: 1.3869 | g_loss: 0.7489\n",
      "Epoch [    8/   13] | d_loss: 1.3966 | g_loss: 0.7803\n",
      "Epoch [    8/   13] | d_loss: 1.3742 | g_loss: 0.8171\n",
      "Epoch [    8/   13] | d_loss: 1.3757 | g_loss: 0.7385\n",
      "Epoch [    8/   13] | d_loss: 1.3389 | g_loss: 0.8335\n",
      "Epoch [    9/   13] | d_loss: 1.4377 | g_loss: 0.8122\n",
      "Epoch [    9/   13] | d_loss: 1.4316 | g_loss: 0.7680\n",
      "Epoch [    9/   13] | d_loss: 1.4022 | g_loss: 0.7612\n",
      "Epoch [    9/   13] | d_loss: 1.4316 | g_loss: 0.7311\n",
      "Epoch [    9/   13] | d_loss: 1.3814 | g_loss: 0.7169\n",
      "Epoch [    9/   13] | d_loss: 1.3919 | g_loss: 0.7258\n",
      "Epoch [    9/   13] | d_loss: 1.3607 | g_loss: 0.7464\n",
      "Epoch [    9/   13] | d_loss: 1.4119 | g_loss: 0.8392\n",
      "Epoch [    9/   13] | d_loss: 1.3756 | g_loss: 0.8211\n",
      "Epoch [    9/   13] | d_loss: 1.3956 | g_loss: 0.7383\n",
      "Epoch [    9/   13] | d_loss: 1.3632 | g_loss: 0.7283\n",
      "Epoch [    9/   13] | d_loss: 1.3305 | g_loss: 0.7845\n",
      "Epoch [    9/   13] | d_loss: 1.3678 | g_loss: 0.7667\n",
      "Epoch [    9/   13] | d_loss: 1.3803 | g_loss: 0.7103\n",
      "Epoch [    9/   13] | d_loss: 1.4050 | g_loss: 0.7427\n",
      "Epoch [    9/   13] | d_loss: 1.3280 | g_loss: 0.7278\n",
      "Epoch [    9/   13] | d_loss: 1.3710 | g_loss: 0.7670\n",
      "Epoch [    9/   13] | d_loss: 1.3874 | g_loss: 0.7156\n",
      "Epoch [    9/   13] | d_loss: 1.3885 | g_loss: 0.7726\n",
      "Epoch [    9/   13] | d_loss: 1.3371 | g_loss: 0.8076\n",
      "Epoch [    9/   13] | d_loss: 1.3468 | g_loss: 0.7519\n",
      "Epoch [    9/   13] | d_loss: 1.3723 | g_loss: 0.8137\n",
      "Epoch [    9/   13] | d_loss: 1.4045 | g_loss: 0.6908\n",
      "Epoch [    9/   13] | d_loss: 1.3124 | g_loss: 0.8138\n",
      "Epoch [    9/   13] | d_loss: 1.3663 | g_loss: 0.7701\n",
      "Epoch [   10/   13] | d_loss: 1.3888 | g_loss: 0.7367\n",
      "Epoch [   10/   13] | d_loss: 1.3572 | g_loss: 0.7877\n",
      "Epoch [   10/   13] | d_loss: 1.3885 | g_loss: 0.7978\n",
      "Epoch [   10/   13] | d_loss: 1.3833 | g_loss: 0.8190\n",
      "Epoch [   10/   13] | d_loss: 1.3762 | g_loss: 0.7254\n",
      "Epoch [   10/   13] | d_loss: 1.3710 | g_loss: 0.6653\n",
      "Epoch [   10/   13] | d_loss: 1.3603 | g_loss: 0.7317\n",
      "Epoch [   10/   13] | d_loss: 1.3962 | g_loss: 0.6810\n",
      "Epoch [   10/   13] | d_loss: 1.3874 | g_loss: 0.8012\n",
      "Epoch [   10/   13] | d_loss: 1.3333 | g_loss: 0.8134\n",
      "Epoch [   10/   13] | d_loss: 1.3733 | g_loss: 0.7216\n",
      "Epoch [   10/   13] | d_loss: 1.3450 | g_loss: 0.7462\n",
      "Epoch [   10/   13] | d_loss: 1.3632 | g_loss: 0.8245\n",
      "Epoch [   10/   13] | d_loss: 1.3712 | g_loss: 0.7641\n",
      "Epoch [   10/   13] | d_loss: 1.3453 | g_loss: 0.7567\n",
      "Epoch [   10/   13] | d_loss: 1.3244 | g_loss: 0.7935\n",
      "Epoch [   10/   13] | d_loss: 1.3505 | g_loss: 0.8188\n",
      "Epoch [   10/   13] | d_loss: 1.3878 | g_loss: 0.7196\n",
      "Epoch [   10/   13] | d_loss: 1.3783 | g_loss: 0.7639\n",
      "Epoch [   10/   13] | d_loss: 1.3995 | g_loss: 0.7115\n",
      "Epoch [   10/   13] | d_loss: 1.3179 | g_loss: 0.7329\n",
      "Epoch [   10/   13] | d_loss: 1.3713 | g_loss: 0.7439\n",
      "Epoch [   10/   13] | d_loss: 1.3769 | g_loss: 0.7771\n",
      "Epoch [   10/   13] | d_loss: 1.3717 | g_loss: 0.7821\n",
      "Epoch [   10/   13] | d_loss: 1.3804 | g_loss: 0.6977\n",
      "Epoch [   11/   13] | d_loss: 1.4075 | g_loss: 0.8487\n",
      "Epoch [   11/   13] | d_loss: 1.4057 | g_loss: 0.8026\n",
      "Epoch [   11/   13] | d_loss: 1.4068 | g_loss: 0.6703\n",
      "Epoch [   11/   13] | d_loss: 1.3719 | g_loss: 0.6820\n",
      "Epoch [   11/   13] | d_loss: 1.2968 | g_loss: 0.7898\n",
      "Epoch [   11/   13] | d_loss: 1.3691 | g_loss: 0.7407\n",
      "Epoch [   11/   13] | d_loss: 1.3903 | g_loss: 0.7314\n",
      "Epoch [   11/   13] | d_loss: 1.3670 | g_loss: 0.7584\n",
      "Epoch [   11/   13] | d_loss: 1.3924 | g_loss: 0.7619\n",
      "Epoch [   11/   13] | d_loss: 1.3742 | g_loss: 0.6877\n",
      "Epoch [   11/   13] | d_loss: 1.3626 | g_loss: 0.7787\n",
      "Epoch [   11/   13] | d_loss: 1.3694 | g_loss: 0.7452\n",
      "Epoch [   11/   13] | d_loss: 1.3405 | g_loss: 0.7191\n",
      "Epoch [   11/   13] | d_loss: 1.3539 | g_loss: 0.7863\n",
      "Epoch [   11/   13] | d_loss: 1.4206 | g_loss: 0.7409\n",
      "Epoch [   11/   13] | d_loss: 1.4161 | g_loss: 0.8014\n",
      "Epoch [   11/   13] | d_loss: 1.3656 | g_loss: 0.7215\n",
      "Epoch [   11/   13] | d_loss: 1.3843 | g_loss: 0.7064\n",
      "Epoch [   11/   13] | d_loss: 1.3177 | g_loss: 0.8706\n",
      "Epoch [   11/   13] | d_loss: 1.3837 | g_loss: 0.8704\n",
      "Epoch [   11/   13] | d_loss: 1.3583 | g_loss: 0.7279\n",
      "Epoch [   11/   13] | d_loss: 1.3795 | g_loss: 0.7903\n",
      "Epoch [   11/   13] | d_loss: 1.3492 | g_loss: 0.7538\n",
      "Epoch [   11/   13] | d_loss: 1.3521 | g_loss: 0.7827\n",
      "Epoch [   11/   13] | d_loss: 1.3872 | g_loss: 0.7143\n",
      "Epoch [   12/   13] | d_loss: 1.3343 | g_loss: 0.8474\n",
      "Epoch [   12/   13] | d_loss: 1.3186 | g_loss: 0.8005\n",
      "Epoch [   12/   13] | d_loss: 1.3039 | g_loss: 0.7326\n",
      "Epoch [   12/   13] | d_loss: 1.3240 | g_loss: 0.7847\n",
      "Epoch [   12/   13] | d_loss: 1.4054 | g_loss: 0.7911\n",
      "Epoch [   12/   13] | d_loss: 1.3683 | g_loss: 0.7645\n",
      "Epoch [   12/   13] | d_loss: 1.3242 | g_loss: 0.7320\n",
      "Epoch [   12/   13] | d_loss: 1.4206 | g_loss: 0.9076\n",
      "Epoch [   12/   13] | d_loss: 1.4538 | g_loss: 0.8127\n",
      "Epoch [   12/   13] | d_loss: 1.3714 | g_loss: 0.7993\n",
      "Epoch [   12/   13] | d_loss: 1.3267 | g_loss: 0.8668\n",
      "Epoch [   12/   13] | d_loss: 1.2877 | g_loss: 0.7091\n",
      "Epoch [   12/   13] | d_loss: 1.3865 | g_loss: 0.6986\n",
      "Epoch [   12/   13] | d_loss: 1.3549 | g_loss: 0.7378\n",
      "Epoch [   12/   13] | d_loss: 1.3222 | g_loss: 0.8062\n",
      "Epoch [   12/   13] | d_loss: 1.3592 | g_loss: 0.7096\n",
      "Epoch [   12/   13] | d_loss: 1.4365 | g_loss: 0.7449\n",
      "Epoch [   12/   13] | d_loss: 1.3835 | g_loss: 0.7070\n",
      "Epoch [   12/   13] | d_loss: 1.4204 | g_loss: 0.7661\n",
      "Epoch [   12/   13] | d_loss: 1.4054 | g_loss: 0.8103\n",
      "Epoch [   12/   13] | d_loss: 1.3611 | g_loss: 0.6719\n",
      "Epoch [   12/   13] | d_loss: 1.3273 | g_loss: 0.7947\n",
      "Epoch [   12/   13] | d_loss: 1.4219 | g_loss: 0.7682\n",
      "Epoch [   12/   13] | d_loss: 1.3297 | g_loss: 0.7669\n",
      "Epoch [   12/   13] | d_loss: 1.3082 | g_loss: 0.7122\n",
      "Epoch [   13/   13] | d_loss: 1.3600 | g_loss: 0.7508\n",
      "Epoch [   13/   13] | d_loss: 1.3726 | g_loss: 0.7096\n",
      "Epoch [   13/   13] | d_loss: 1.4148 | g_loss: 0.7342\n",
      "Epoch [   13/   13] | d_loss: 1.3093 | g_loss: 0.8581\n"
     ]
    },
    {
     "name": "stdout",
     "output_type": "stream",
     "text": [
      "Epoch [   13/   13] | d_loss: 1.3077 | g_loss: 0.7996\n",
      "Epoch [   13/   13] | d_loss: 1.3665 | g_loss: 0.7898\n",
      "Epoch [   13/   13] | d_loss: 1.3795 | g_loss: 0.7759\n",
      "Epoch [   13/   13] | d_loss: 1.3828 | g_loss: 0.8282\n",
      "Epoch [   13/   13] | d_loss: 1.3249 | g_loss: 0.7734\n",
      "Epoch [   13/   13] | d_loss: 1.3865 | g_loss: 0.6845\n",
      "Epoch [   13/   13] | d_loss: 1.3675 | g_loss: 0.7868\n",
      "Epoch [   13/   13] | d_loss: 1.3440 | g_loss: 0.7684\n",
      "Epoch [   13/   13] | d_loss: 1.4175 | g_loss: 0.7635\n",
      "Epoch [   13/   13] | d_loss: 1.3601 | g_loss: 0.8358\n",
      "Epoch [   13/   13] | d_loss: 1.4112 | g_loss: 0.7728\n",
      "Epoch [   13/   13] | d_loss: 1.3601 | g_loss: 0.7464\n",
      "Epoch [   13/   13] | d_loss: 1.3850 | g_loss: 0.7488\n",
      "Epoch [   13/   13] | d_loss: 1.3960 | g_loss: 0.7806\n",
      "Epoch [   13/   13] | d_loss: 1.3957 | g_loss: 0.7359\n",
      "Epoch [   13/   13] | d_loss: 1.3545 | g_loss: 0.7325\n",
      "Epoch [   13/   13] | d_loss: 1.3723 | g_loss: 0.8116\n",
      "Epoch [   13/   13] | d_loss: 1.3462 | g_loss: 0.7104\n",
      "Epoch [   13/   13] | d_loss: 1.3772 | g_loss: 0.7355\n",
      "Epoch [   13/   13] | d_loss: 1.3878 | g_loss: 0.7031\n",
      "Epoch [   13/   13] | d_loss: 1.4144 | g_loss: 0.7282\n"
     ]
    }
   ],
   "source": [
    "# set number of epochs \n",
    "n_epochs = 13 # adjust later on (started with 5 :D)\n",
    "\"\"\"\n",
    "DON'T MODIFY ANYTHING IN THIS CELL\n",
    "\"\"\"\n",
    "# call training function\n",
    "losses = train(D, G, n_epochs=n_epochs)"
   ]
  },
  {
   "cell_type": "markdown",
   "metadata": {
    "collapsed": true
   },
   "source": [
    "## Training loss\n",
    "\n",
    "Plot the training losses for the generator and discriminator, recorded after each epoch."
   ]
  },
  {
   "cell_type": "code",
   "execution_count": 21,
   "metadata": {},
   "outputs": [
    {
     "data": {
      "text/plain": [
       "<matplotlib.legend.Legend at 0x7f11a1d11978>"
      ]
     },
     "execution_count": 21,
     "metadata": {},
     "output_type": "execute_result"
    },
    {
     "data": {
      "image/png": "[encoded data removed]",
      "text/plain": [
       "<matplotlib.figure.Figure at 0x7f11a67fbb70>"
      ]
     },
     "metadata": {
      "needs_background": "light"
     },
     "output_type": "display_data"
    }
   ],
   "source": [
    "fig, ax = plt.subplots()\n",
    "losses = np.array(losses)\n",
    "plt.plot(losses.T[0], label='Discriminator', alpha=0.5)\n",
    "plt.plot(losses.T[1], label='Generator', alpha=0.5)\n",
    "plt.title(\"Training Losses\")\n",
    "plt.legend()"
   ]
  },
  {
   "cell_type": "markdown",
   "metadata": {
    "collapsed": true
   },
   "source": [
    "## Generator samples from training\n",
    "\n",
    "View samples of images from the generator, and answer a question about the strengths and weaknesses of your trained models."
   ]
  },
  {
   "cell_type": "code",
   "execution_count": 22,
   "metadata": {},
   "outputs": [],
   "source": [
    "# helper function for viewing a list of passed in sample images\n",
    "def view_samples(epoch, samples):\n",
    "    fig, axes = plt.subplots(figsize=(16,4), nrows=2, ncols=8, sharey=True, sharex=True)\n",
    "    for ax, img in zip(axes.flatten(), samples[epoch]):\n",
    "        img = img.detach().cpu().numpy()\n",
    "        img = np.transpose(img, (1, 2, 0))\n",
    "        img = ((img + 1)*255 / (2)).astype(np.uint8)\n",
    "        ax.xaxis.set_visible(False)\n",
    "        ax.yaxis.set_visible(False)\n",
    "        im = ax.imshow(img.reshape((32,32,3)))"
   ]
  },
  {
   "cell_type": "code",
   "execution_count": 23,
   "metadata": {},
   "outputs": [],
   "source": [
    "# Load samples from generator, taken while training\n",
    "with open('train_samples.pkl', 'rb') as f:\n",
    "    samples = pkl.load(f)"
   ]
  },
  {
   "cell_type": "code",
   "execution_count": 24,
   "metadata": {},
   "outputs": [
    {
     "data": {
      "image/png": "[encoded data removed]",
      "text/plain": [
       "<matplotlib.figure.Figure at 0x7f119b7ecda0>"
      ]
     },
     "metadata": {
      "needs_background": "light"
     },
     "output_type": "display_data"
    }
   ],
   "source": [
    "_ = view_samples(-1, samples)"
   ]
  },
  {
   "cell_type": "markdown",
   "metadata": {},
   "source": [
    "### Question: What do you notice about your generated samples and how might you improve this model?\n",
    "When you answer this question, consider the following factors:\n",
    "* The dataset is biased; it is made of \"celebrity\" faces that are mostly white\n",
    "* Model size; larger models have the opportunity to learn more features in a data feature space\n",
    "* Optimization strategy; optimizers and number of epochs affect your final result\n"
   ]
  },
  {
   "cell_type": "markdown",
   "metadata": {},
   "source": [
    "**Answer:** (Write your answer in this cell)\n",
    "\n",
    "I don't have the perfect generated faces, but they do look human. In early iterations, the faces were quite ghostly...\n",
    "\n",
    "And even now some even look very very similar to each other, for example hair style. The darker faces tend to be less well-formed.\n",
    "\n",
    "My model size was quite small, and this definitely contributed to the shabbiness of the faces.\n",
    "\n",
    "According to class material, I went with the Adam Optimizer. \n",
    "\n",
    "I spent a bit of time adjusting the learning rate and beta1 until I was satisfied with the images generated.\n"
   ]
  }
 ],
 "metadata": {
  "kernelspec": {
   "display_name": "Python 3",
   "language": "python",
   "name": "python3"
  },
  "language_info": {
   "codemirror_mode": {
    "name": "ipython",
    "version": 3
   },
   "file_extension": ".py",
   "mimetype": "text/x-python",
   "name": "python",
   "nbconvert_exporter": "python",
   "pygments_lexer": "ipython3",
   "version": "3.7.1"
  }
 },
 "nbformat": 4,
 "nbformat_minor": 1
}
